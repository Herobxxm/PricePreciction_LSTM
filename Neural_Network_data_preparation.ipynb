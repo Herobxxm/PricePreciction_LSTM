{
  "nbformat": 4,
  "nbformat_minor": 0,
  "metadata": {
    "colab": {
      "name": "Neural_Network_data_preparation.ipynb",
      "provenance": [],
      "collapsed_sections": []
    },
    "kernelspec": {
      "name": "python3",
      "display_name": "Python 3"
    },
    "language_info": {
      "name": "python"
    }
  },
  "cells": [
    {
      "cell_type": "code",
      "execution_count": 1,
      "metadata": {
        "colab": {
          "base_uri": "https://localhost:8080/"
        },
        "id": "LAjhtKh-R_in",
        "outputId": "14d54ba6-30cd-42bc-fc0b-a599b98b82d4"
      },
      "outputs": [
        {
          "output_type": "stream",
          "name": "stdout",
          "text": [
            "Mounted at /content/drive\n"
          ]
        }
      ],
      "source": [
        "from google.colab import drive\n",
        "drive.mount('/content/drive')"
      ]
    },
    {
      "cell_type": "code",
      "source": [
        "import pandas as pd\n",
        "import numpy as np\n",
        "import matplotlib.pyplot as plt\n",
        "from sklearn.metrics import mean_squared_error\n",
        "from statsmodels.tsa.statespace.sarimax import SARIMAX\n",
        "import pickle\n",
        "import math\n",
        "import warnings\n",
        "warnings.filterwarnings(\"ignore\")"
      ],
      "metadata": {
        "id": "ZzP2Q4GZS3Ip",
        "colab": {
          "base_uri": "https://localhost:8080/"
        },
        "outputId": "dbfa890b-ca34-4541-b5f8-bb0bcb3280ca"
      },
      "execution_count": 2,
      "outputs": [
        {
          "output_type": "stream",
          "name": "stderr",
          "text": [
            "/usr/local/lib/python3.7/dist-packages/statsmodels/tools/_testing.py:19: FutureWarning: pandas.util.testing is deprecated. Use the functions in the public API at pandas.testing instead.\n",
            "  import pandas.util.testing as tm\n"
          ]
        }
      ]
    },
    {
      "cell_type": "code",
      "source": [
        "\n",
        "df_gold = pd.read_csv(\"/content/drive/MyDrive/NN project/Gold Futures Historical Data.csv\")\n",
        "df_ptt = pd.read_csv(\"/content/drive/MyDrive/NN project/PTT Historical Data.csv\")\n",
        "df_pttep = pd.read_csv(\"/content/drive/MyDrive/NN project/PTTEP Historical Data.csv\")\n",
        "df_top = pd.read_csv(\"/content/drive/MyDrive/NN project/TOP Historical Data.csv\")\n",
        "df_usDollar = pd.read_csv('/content/drive/MyDrive/NN project/US Dollar Index Historical Data.csv')\n"
      ],
      "metadata": {
        "id": "hGWTYkbnS3Op"
      },
      "execution_count": 3,
      "outputs": []
    },
    {
      "cell_type": "code",
      "source": [
        "df_gold.drop(columns=['Open','High' ,'Low','Vol.','Change %'],inplace=True)\n",
        "df_ptt.drop(columns=['Open','High' ,'Low','Vol.','Change %'],inplace=True)\n",
        "df_pttep.drop(columns=['Open','High' ,'Low','Vol.','Change %'],inplace=True)\n",
        "df_top.drop(columns=['Open','High' ,'Low','Vol.','Change %'],inplace=True)\n",
        "df_usDollar.drop(columns=['Open','High' ,'Low','Vol.','Change %'],inplace=True)"
      ],
      "metadata": {
        "id": "u2GhUGAhTg-n"
      },
      "execution_count": 4,
      "outputs": []
    },
    {
      "cell_type": "code",
      "source": [
        "# drop row ซ้ำ\n",
        "def dropDuplicate( df_gold , df_ptt , df_pttep,df_top,df_usDollar ) :\n",
        "  df_gold.drop_duplicates(subset=['date_time'],inplace=True)\n",
        "  df_ptt.drop_duplicates(subset=['date_time'], inplace=True)\n",
        "  df_pttep.drop_duplicates(subset=['date_time'], inplace=True)\n",
        "  df_top.drop_duplicates(subset=['date_time'], inplace=True)\n",
        "  df_usDollar.drop_duplicates(subset=['date_time'], inplace=True)\n",
        "  return [df_gold,df_ptt,df_pttep,df_top,df_usDollar]"
      ],
      "metadata": {
        "id": "_VskdAt0VmNr"
      },
      "execution_count": 5,
      "outputs": []
    },
    {
      "cell_type": "code",
      "source": [
        "# เปลี่ยนชื่อ  date_time\n",
        "def rename( df_gold , df_ptt , df_pttep , df_top , df_usDollar ):\n",
        "  df_gold.rename({df_gold.columns.tolist()[0]: 'date_time'}, axis=1, inplace=True)\n",
        "  df_ptt.rename({df_ptt.columns.tolist()[0]: 'date_time'}, axis=1, inplace=True)\n",
        "  df_pttep.rename({df_pttep.columns.tolist()[0]: 'date_time'}, axis=1, inplace=True)\n",
        "  df_top.rename({df_top.columns.tolist()[0]: 'date_time'}, axis=1, inplace=True)\n",
        "  df_usDollar.rename({df_usDollar.columns.tolist()[0]: 'date_time'}, axis=1, inplace=True)\n",
        "  return [df_gold,df_ptt,df_pttep,df_top,df_usDollar]"
      ],
      "metadata": {
        "id": "qeYziKZFezTK"
      },
      "execution_count": 6,
      "outputs": []
    },
    {
      "cell_type": "code",
      "source": [
        "rename(df_gold , df_ptt , df_pttep , df_top , df_usDollar )"
      ],
      "metadata": {
        "colab": {
          "base_uri": "https://localhost:8080/"
        },
        "id": "hyqsfqDNfRxr",
        "outputId": "5c8bbdc2-3948-4399-94e8-3b74f582f87b"
      },
      "execution_count": 7,
      "outputs": [
        {
          "output_type": "execute_result",
          "data": {
            "text/plain": [
              "[         date_time     Price\n",
              " 0     Jan 01, 2021  1,901.60\n",
              " 1     Dec 31, 2020  1,895.10\n",
              " 2     Dec 30, 2020  1,893.40\n",
              " 3     Dec 29, 2020  1,880.50\n",
              " 4     Dec 28, 2020  1,877.90\n",
              " ...            ...       ...\n",
              " 1583  Jan 07, 2015  1,353.60\n",
              " 1584  Jan 06, 2015  1,362.20\n",
              " 1585  Jan 05, 2015  1,353.50\n",
              " 1586  Jan 02, 2015  1,337.70\n",
              " 1587  Jan 01, 2015  1,186.80\n",
              " \n",
              " [1588 rows x 2 columns],          date_time  Price\n",
              " 0     Dec 30, 2020  42.50\n",
              " 1     Dec 29, 2020  42.50\n",
              " 2     Dec 28, 2020  41.00\n",
              " 3     Dec 25, 2020  42.00\n",
              " 4     Dec 24, 2020  41.25\n",
              " ...            ...    ...\n",
              " 1458  Jan 09, 2015  33.80\n",
              " 1459  Jan 08, 2015  34.00\n",
              " 1460  Jan 07, 2015  33.40\n",
              " 1461  Jan 06, 2015  32.30\n",
              " 1462  Jan 05, 2015  31.50\n",
              " \n",
              " [1463 rows x 2 columns],          date_time   Price\n",
              " 0     Dec 30, 2020   98.25\n",
              " 1     Dec 29, 2020   97.75\n",
              " 2     Dec 28, 2020   95.00\n",
              " 3     Dec 25, 2020   96.50\n",
              " 4     Dec 24, 2020   95.75\n",
              " ...            ...     ...\n",
              " 1458  Jan 09, 2015  112.50\n",
              " 1459  Jan 08, 2015  110.00\n",
              " 1460  Jan 07, 2015  106.50\n",
              " 1461  Jan 06, 2015  107.00\n",
              " 1462  Jan 05, 2015  107.00\n",
              " \n",
              " [1463 rows x 2 columns],          date_time  Price\n",
              " 0     Dec 30, 2020  52.00\n",
              " 1     Dec 29, 2020  53.25\n",
              " 2     Dec 28, 2020  51.25\n",
              " 3     Dec 25, 2020  54.00\n",
              " 4     Dec 24, 2020  52.25\n",
              " ...            ...    ...\n",
              " 1458  Jan 09, 2015  46.00\n",
              " 1459  Jan 08, 2015  45.75\n",
              " 1460  Jan 07, 2015  44.25\n",
              " 1461  Jan 06, 2015  43.00\n",
              " 1462  Jan 05, 2015  42.75\n",
              " \n",
              " [1463 rows x 2 columns],          date_time  Price\n",
              " 0     Jan 01, 2021  89.94\n",
              " 1     Dec 31, 2020  89.94\n",
              " 2     Dec 30, 2020  89.68\n",
              " 3     Dec 29, 2020  89.99\n",
              " 4     Dec 28, 2020  90.34\n",
              " ...            ...    ...\n",
              " 1563  Jan 07, 2015  91.89\n",
              " 1564  Jan 06, 2015  91.50\n",
              " 1565  Jan 05, 2015  91.38\n",
              " 1566  Jan 02, 2015  91.08\n",
              " 1567  Jan 01, 2015  90.27\n",
              " \n",
              " [1568 rows x 2 columns]]"
            ]
          },
          "metadata": {},
          "execution_count": 7
        }
      ]
    },
    {
      "cell_type": "code",
      "source": [
        "# จัด format dateTime \n",
        "def convert_month_day_year(x):\n",
        "  [month_date,year] = x.strip().split(\",\")\n",
        "  month_date = month_date.strip()\n",
        "  year = year.strip()\n",
        "  [month,day] = month_date.split(' ')\n",
        "  month = month.strip()\n",
        "  day = day.strip()\n",
        "  if(month == \"Jan\"):\n",
        "    month = \"01\"\n",
        "  elif(month == \"Feb\"):\n",
        "    month = \"02\"\n",
        "  elif(month == \"Mar\"):\n",
        "    month = \"03\"\n",
        "  elif(month == \"Apr\"):\n",
        "    month = \"04\"\n",
        "  elif(month == \"May\"):\n",
        "    month = \"05\"\n",
        "  elif(month == \"Jun\"):\n",
        "    month = \"06\"\n",
        "  elif(month == \"Jul\"):\n",
        "    month = \"07\"\n",
        "  elif(month == \"Aug\"):\n",
        "    month = \"08\"\n",
        "  elif(month == \"Sep\"):\n",
        "    month = \"09\"\n",
        "  elif(month == \"Oct\"):\n",
        "    month = \"10\"\n",
        "  elif(month == \"Nov\"):\n",
        "    month = \"11\"\n",
        "  elif(month == \"Dec\"):\n",
        "    month = \"12\"\n",
        "  time = \" 00:00:00\"\n",
        "  newDate = year+ \"-\" + month + \"-\" + day + \" \" + time\n",
        "  return newDate"
      ],
      "metadata": {
        "id": "8rXvrL43Ya8L"
      },
      "execution_count": 8,
      "outputs": []
    },
    {
      "cell_type": "code",
      "source": [
        "#จัดรูปแบบ date_time ใหม่(date/month/year)\n",
        "def formatDate( df_gold , df_ptt , df_top ,df_pttep,df_usDollar, fotmatDateFunction ):\n",
        "  df_gold['date_time']    =  df_gold['date_time'].apply(fotmatDateFunction)\n",
        "  df_ptt['date_time'] =  df_ptt['date_time'].apply(fotmatDateFunction)\n",
        "  df_pttep[\"date_time\"] = df_pttep['date_time'].apply(fotmatDateFunction)\n",
        "  df_top['date_time']  = df_top['date_time'].apply(fotmatDateFunction)\n",
        "  df_usDollar[\"date_time\"] = df_usDollar['date_time'].apply(fotmatDateFunction)\n",
        "  return [df_gold,df_ptt,df_pttep,df_top,df_usDollar]"
      ],
      "metadata": {
        "id": "xL5bZDYjXcN1"
      },
      "execution_count": 9,
      "outputs": []
    },
    {
      "cell_type": "code",
      "source": [
        "def toDate(df_gold , df_ptt , df_top ,df_pttep,df_usDollar):\n",
        "\n",
        "  df_gold['date_time'] = pd.to_datetime(df_gold['date_time'])\n",
        "  df_gold.set_index('date_time', inplace=True)\n",
        "\n",
        "  df_ptt['date_time'] = pd.to_datetime(df_ptt['date_time'])\n",
        "  df_ptt.set_index('date_time', inplace=True)\n",
        "\n",
        "  df_top['date_time'] = pd.to_datetime(df_top['date_time'])\n",
        "  df_top.set_index('date_time', inplace=True)\n",
        "\n",
        "  df_pttep['date_time'] = pd.to_datetime(df_pttep['date_time'])\n",
        "  df_pttep.set_index('date_time', inplace=True)\n",
        "\n",
        "  df_usDollar['date_time'] = pd.to_datetime(df_usDollar['date_time'])\n",
        "  df_usDollar.set_index('date_time', inplace=True)\n",
        "\n",
        "  return [df_gold,df_ptt,df_pttep,df_top,df_usDollar]"
      ],
      "metadata": {
        "id": "5Y7bQylDcOzb"
      },
      "execution_count": 10,
      "outputs": []
    },
    {
      "cell_type": "code",
      "source": [
        "dropDuplicate(df_gold,df_ptt,df_pttep,df_top,df_usDollar)"
      ],
      "metadata": {
        "colab": {
          "base_uri": "https://localhost:8080/"
        },
        "id": "8vcSuVjvo31d",
        "outputId": "e498c0b9-9cdb-4746-b233-89ce16e9e381"
      },
      "execution_count": 11,
      "outputs": [
        {
          "output_type": "execute_result",
          "data": {
            "text/plain": [
              "[         date_time     Price\n",
              " 0     Jan 01, 2021  1,901.60\n",
              " 1     Dec 31, 2020  1,895.10\n",
              " 2     Dec 30, 2020  1,893.40\n",
              " 3     Dec 29, 2020  1,880.50\n",
              " 4     Dec 28, 2020  1,877.90\n",
              " ...            ...       ...\n",
              " 1583  Jan 07, 2015  1,353.60\n",
              " 1584  Jan 06, 2015  1,362.20\n",
              " 1585  Jan 05, 2015  1,353.50\n",
              " 1586  Jan 02, 2015  1,337.70\n",
              " 1587  Jan 01, 2015  1,186.80\n",
              " \n",
              " [1588 rows x 2 columns],          date_time  Price\n",
              " 0     Dec 30, 2020  42.50\n",
              " 1     Dec 29, 2020  42.50\n",
              " 2     Dec 28, 2020  41.00\n",
              " 3     Dec 25, 2020  42.00\n",
              " 4     Dec 24, 2020  41.25\n",
              " ...            ...    ...\n",
              " 1458  Jan 09, 2015  33.80\n",
              " 1459  Jan 08, 2015  34.00\n",
              " 1460  Jan 07, 2015  33.40\n",
              " 1461  Jan 06, 2015  32.30\n",
              " 1462  Jan 05, 2015  31.50\n",
              " \n",
              " [1463 rows x 2 columns],          date_time   Price\n",
              " 0     Dec 30, 2020   98.25\n",
              " 1     Dec 29, 2020   97.75\n",
              " 2     Dec 28, 2020   95.00\n",
              " 3     Dec 25, 2020   96.50\n",
              " 4     Dec 24, 2020   95.75\n",
              " ...            ...     ...\n",
              " 1458  Jan 09, 2015  112.50\n",
              " 1459  Jan 08, 2015  110.00\n",
              " 1460  Jan 07, 2015  106.50\n",
              " 1461  Jan 06, 2015  107.00\n",
              " 1462  Jan 05, 2015  107.00\n",
              " \n",
              " [1463 rows x 2 columns],          date_time  Price\n",
              " 0     Dec 30, 2020  52.00\n",
              " 1     Dec 29, 2020  53.25\n",
              " 2     Dec 28, 2020  51.25\n",
              " 3     Dec 25, 2020  54.00\n",
              " 4     Dec 24, 2020  52.25\n",
              " ...            ...    ...\n",
              " 1458  Jan 09, 2015  46.00\n",
              " 1459  Jan 08, 2015  45.75\n",
              " 1460  Jan 07, 2015  44.25\n",
              " 1461  Jan 06, 2015  43.00\n",
              " 1462  Jan 05, 2015  42.75\n",
              " \n",
              " [1463 rows x 2 columns],          date_time  Price\n",
              " 0     Jan 01, 2021  89.94\n",
              " 1     Dec 31, 2020  89.94\n",
              " 2     Dec 30, 2020  89.68\n",
              " 3     Dec 29, 2020  89.99\n",
              " 4     Dec 28, 2020  90.34\n",
              " ...            ...    ...\n",
              " 1563  Jan 07, 2015  91.89\n",
              " 1564  Jan 06, 2015  91.50\n",
              " 1565  Jan 05, 2015  91.38\n",
              " 1566  Jan 02, 2015  91.08\n",
              " 1567  Jan 01, 2015  90.27\n",
              " \n",
              " [1568 rows x 2 columns]]"
            ]
          },
          "metadata": {},
          "execution_count": 11
        }
      ]
    },
    {
      "cell_type": "code",
      "source": [
        "formatDate(df_gold , df_ptt , df_top ,df_pttep,df_usDollar, convert_month_day_year)"
      ],
      "metadata": {
        "colab": {
          "base_uri": "https://localhost:8080/"
        },
        "id": "kUoQxr5ilaiJ",
        "outputId": "d61f7431-681a-47ad-defa-eb2ad2a50f2d"
      },
      "execution_count": 12,
      "outputs": [
        {
          "output_type": "execute_result",
          "data": {
            "text/plain": [
              "[                 date_time     Price\n",
              " 0     2021-01-01  00:00:00  1,901.60\n",
              " 1     2020-12-31  00:00:00  1,895.10\n",
              " 2     2020-12-30  00:00:00  1,893.40\n",
              " 3     2020-12-29  00:00:00  1,880.50\n",
              " 4     2020-12-28  00:00:00  1,877.90\n",
              " ...                    ...       ...\n",
              " 1583  2015-01-07  00:00:00  1,353.60\n",
              " 1584  2015-01-06  00:00:00  1,362.20\n",
              " 1585  2015-01-05  00:00:00  1,353.50\n",
              " 1586  2015-01-02  00:00:00  1,337.70\n",
              " 1587  2015-01-01  00:00:00  1,186.80\n",
              " \n",
              " [1588 rows x 2 columns],                  date_time  Price\n",
              " 0     2020-12-30  00:00:00  42.50\n",
              " 1     2020-12-29  00:00:00  42.50\n",
              " 2     2020-12-28  00:00:00  41.00\n",
              " 3     2020-12-25  00:00:00  42.00\n",
              " 4     2020-12-24  00:00:00  41.25\n",
              " ...                    ...    ...\n",
              " 1458  2015-01-09  00:00:00  33.80\n",
              " 1459  2015-01-08  00:00:00  34.00\n",
              " 1460  2015-01-07  00:00:00  33.40\n",
              " 1461  2015-01-06  00:00:00  32.30\n",
              " 1462  2015-01-05  00:00:00  31.50\n",
              " \n",
              " [1463 rows x 2 columns],                  date_time   Price\n",
              " 0     2020-12-30  00:00:00   98.25\n",
              " 1     2020-12-29  00:00:00   97.75\n",
              " 2     2020-12-28  00:00:00   95.00\n",
              " 3     2020-12-25  00:00:00   96.50\n",
              " 4     2020-12-24  00:00:00   95.75\n",
              " ...                    ...     ...\n",
              " 1458  2015-01-09  00:00:00  112.50\n",
              " 1459  2015-01-08  00:00:00  110.00\n",
              " 1460  2015-01-07  00:00:00  106.50\n",
              " 1461  2015-01-06  00:00:00  107.00\n",
              " 1462  2015-01-05  00:00:00  107.00\n",
              " \n",
              " [1463 rows x 2 columns],                  date_time  Price\n",
              " 0     2020-12-30  00:00:00  52.00\n",
              " 1     2020-12-29  00:00:00  53.25\n",
              " 2     2020-12-28  00:00:00  51.25\n",
              " 3     2020-12-25  00:00:00  54.00\n",
              " 4     2020-12-24  00:00:00  52.25\n",
              " ...                    ...    ...\n",
              " 1458  2015-01-09  00:00:00  46.00\n",
              " 1459  2015-01-08  00:00:00  45.75\n",
              " 1460  2015-01-07  00:00:00  44.25\n",
              " 1461  2015-01-06  00:00:00  43.00\n",
              " 1462  2015-01-05  00:00:00  42.75\n",
              " \n",
              " [1463 rows x 2 columns],                  date_time  Price\n",
              " 0     2021-01-01  00:00:00  89.94\n",
              " 1     2020-12-31  00:00:00  89.94\n",
              " 2     2020-12-30  00:00:00  89.68\n",
              " 3     2020-12-29  00:00:00  89.99\n",
              " 4     2020-12-28  00:00:00  90.34\n",
              " ...                    ...    ...\n",
              " 1563  2015-01-07  00:00:00  91.89\n",
              " 1564  2015-01-06  00:00:00  91.50\n",
              " 1565  2015-01-05  00:00:00  91.38\n",
              " 1566  2015-01-02  00:00:00  91.08\n",
              " 1567  2015-01-01  00:00:00  90.27\n",
              " \n",
              " [1568 rows x 2 columns]]"
            ]
          },
          "metadata": {},
          "execution_count": 12
        }
      ]
    },
    {
      "cell_type": "code",
      "source": [
        "df_gold"
      ],
      "metadata": {
        "colab": {
          "base_uri": "https://localhost:8080/",
          "height": 424
        },
        "id": "3G9S9IiKmALN",
        "outputId": "1f2d5c7d-3c45-4b35-9412-7cc6732fdae2"
      },
      "execution_count": 13,
      "outputs": [
        {
          "output_type": "execute_result",
          "data": {
            "text/plain": [
              "                 date_time     Price\n",
              "0     2021-01-01  00:00:00  1,901.60\n",
              "1     2020-12-31  00:00:00  1,895.10\n",
              "2     2020-12-30  00:00:00  1,893.40\n",
              "3     2020-12-29  00:00:00  1,880.50\n",
              "4     2020-12-28  00:00:00  1,877.90\n",
              "...                    ...       ...\n",
              "1583  2015-01-07  00:00:00  1,353.60\n",
              "1584  2015-01-06  00:00:00  1,362.20\n",
              "1585  2015-01-05  00:00:00  1,353.50\n",
              "1586  2015-01-02  00:00:00  1,337.70\n",
              "1587  2015-01-01  00:00:00  1,186.80\n",
              "\n",
              "[1588 rows x 2 columns]"
            ],
            "text/html": [
              "\n",
              "  <div id=\"df-3597dc6c-ca68-4a99-8d84-57abb62ad74d\">\n",
              "    <div class=\"colab-df-container\">\n",
              "      <div>\n",
              "<style scoped>\n",
              "    .dataframe tbody tr th:only-of-type {\n",
              "        vertical-align: middle;\n",
              "    }\n",
              "\n",
              "    .dataframe tbody tr th {\n",
              "        vertical-align: top;\n",
              "    }\n",
              "\n",
              "    .dataframe thead th {\n",
              "        text-align: right;\n",
              "    }\n",
              "</style>\n",
              "<table border=\"1\" class=\"dataframe\">\n",
              "  <thead>\n",
              "    <tr style=\"text-align: right;\">\n",
              "      <th></th>\n",
              "      <th>date_time</th>\n",
              "      <th>Price</th>\n",
              "    </tr>\n",
              "  </thead>\n",
              "  <tbody>\n",
              "    <tr>\n",
              "      <th>0</th>\n",
              "      <td>2021-01-01  00:00:00</td>\n",
              "      <td>1,901.60</td>\n",
              "    </tr>\n",
              "    <tr>\n",
              "      <th>1</th>\n",
              "      <td>2020-12-31  00:00:00</td>\n",
              "      <td>1,895.10</td>\n",
              "    </tr>\n",
              "    <tr>\n",
              "      <th>2</th>\n",
              "      <td>2020-12-30  00:00:00</td>\n",
              "      <td>1,893.40</td>\n",
              "    </tr>\n",
              "    <tr>\n",
              "      <th>3</th>\n",
              "      <td>2020-12-29  00:00:00</td>\n",
              "      <td>1,880.50</td>\n",
              "    </tr>\n",
              "    <tr>\n",
              "      <th>4</th>\n",
              "      <td>2020-12-28  00:00:00</td>\n",
              "      <td>1,877.90</td>\n",
              "    </tr>\n",
              "    <tr>\n",
              "      <th>...</th>\n",
              "      <td>...</td>\n",
              "      <td>...</td>\n",
              "    </tr>\n",
              "    <tr>\n",
              "      <th>1583</th>\n",
              "      <td>2015-01-07  00:00:00</td>\n",
              "      <td>1,353.60</td>\n",
              "    </tr>\n",
              "    <tr>\n",
              "      <th>1584</th>\n",
              "      <td>2015-01-06  00:00:00</td>\n",
              "      <td>1,362.20</td>\n",
              "    </tr>\n",
              "    <tr>\n",
              "      <th>1585</th>\n",
              "      <td>2015-01-05  00:00:00</td>\n",
              "      <td>1,353.50</td>\n",
              "    </tr>\n",
              "    <tr>\n",
              "      <th>1586</th>\n",
              "      <td>2015-01-02  00:00:00</td>\n",
              "      <td>1,337.70</td>\n",
              "    </tr>\n",
              "    <tr>\n",
              "      <th>1587</th>\n",
              "      <td>2015-01-01  00:00:00</td>\n",
              "      <td>1,186.80</td>\n",
              "    </tr>\n",
              "  </tbody>\n",
              "</table>\n",
              "<p>1588 rows × 2 columns</p>\n",
              "</div>\n",
              "      <button class=\"colab-df-convert\" onclick=\"convertToInteractive('df-3597dc6c-ca68-4a99-8d84-57abb62ad74d')\"\n",
              "              title=\"Convert this dataframe to an interactive table.\"\n",
              "              style=\"display:none;\">\n",
              "        \n",
              "  <svg xmlns=\"http://www.w3.org/2000/svg\" height=\"24px\"viewBox=\"0 0 24 24\"\n",
              "       width=\"24px\">\n",
              "    <path d=\"M0 0h24v24H0V0z\" fill=\"none\"/>\n",
              "    <path d=\"M18.56 5.44l.94 2.06.94-2.06 2.06-.94-2.06-.94-.94-2.06-.94 2.06-2.06.94zm-11 1L8.5 8.5l.94-2.06 2.06-.94-2.06-.94L8.5 2.5l-.94 2.06-2.06.94zm10 10l.94 2.06.94-2.06 2.06-.94-2.06-.94-.94-2.06-.94 2.06-2.06.94z\"/><path d=\"M17.41 7.96l-1.37-1.37c-.4-.4-.92-.59-1.43-.59-.52 0-1.04.2-1.43.59L10.3 9.45l-7.72 7.72c-.78.78-.78 2.05 0 2.83L4 21.41c.39.39.9.59 1.41.59.51 0 1.02-.2 1.41-.59l7.78-7.78 2.81-2.81c.8-.78.8-2.07 0-2.86zM5.41 20L4 18.59l7.72-7.72 1.47 1.35L5.41 20z\"/>\n",
              "  </svg>\n",
              "      </button>\n",
              "      \n",
              "  <style>\n",
              "    .colab-df-container {\n",
              "      display:flex;\n",
              "      flex-wrap:wrap;\n",
              "      gap: 12px;\n",
              "    }\n",
              "\n",
              "    .colab-df-convert {\n",
              "      background-color: #E8F0FE;\n",
              "      border: none;\n",
              "      border-radius: 50%;\n",
              "      cursor: pointer;\n",
              "      display: none;\n",
              "      fill: #1967D2;\n",
              "      height: 32px;\n",
              "      padding: 0 0 0 0;\n",
              "      width: 32px;\n",
              "    }\n",
              "\n",
              "    .colab-df-convert:hover {\n",
              "      background-color: #E2EBFA;\n",
              "      box-shadow: 0px 1px 2px rgba(60, 64, 67, 0.3), 0px 1px 3px 1px rgba(60, 64, 67, 0.15);\n",
              "      fill: #174EA6;\n",
              "    }\n",
              "\n",
              "    [theme=dark] .colab-df-convert {\n",
              "      background-color: #3B4455;\n",
              "      fill: #D2E3FC;\n",
              "    }\n",
              "\n",
              "    [theme=dark] .colab-df-convert:hover {\n",
              "      background-color: #434B5C;\n",
              "      box-shadow: 0px 1px 3px 1px rgba(0, 0, 0, 0.15);\n",
              "      filter: drop-shadow(0px 1px 2px rgba(0, 0, 0, 0.3));\n",
              "      fill: #FFFFFF;\n",
              "    }\n",
              "  </style>\n",
              "\n",
              "      <script>\n",
              "        const buttonEl =\n",
              "          document.querySelector('#df-3597dc6c-ca68-4a99-8d84-57abb62ad74d button.colab-df-convert');\n",
              "        buttonEl.style.display =\n",
              "          google.colab.kernel.accessAllowed ? 'block' : 'none';\n",
              "\n",
              "        async function convertToInteractive(key) {\n",
              "          const element = document.querySelector('#df-3597dc6c-ca68-4a99-8d84-57abb62ad74d');\n",
              "          const dataTable =\n",
              "            await google.colab.kernel.invokeFunction('convertToInteractive',\n",
              "                                                     [key], {});\n",
              "          if (!dataTable) return;\n",
              "\n",
              "          const docLinkHtml = 'Like what you see? Visit the ' +\n",
              "            '<a target=\"_blank\" href=https://colab.research.google.com/notebooks/data_table.ipynb>data table notebook</a>'\n",
              "            + ' to learn more about interactive tables.';\n",
              "          element.innerHTML = '';\n",
              "          dataTable['output_type'] = 'display_data';\n",
              "          await google.colab.output.renderOutput(dataTable, element);\n",
              "          const docLink = document.createElement('div');\n",
              "          docLink.innerHTML = docLinkHtml;\n",
              "          element.appendChild(docLink);\n",
              "        }\n",
              "      </script>\n",
              "    </div>\n",
              "  </div>\n",
              "  "
            ]
          },
          "metadata": {},
          "execution_count": 13
        }
      ]
    },
    {
      "cell_type": "code",
      "source": [
        "toDate(df_gold , df_ptt , df_top ,df_pttep,df_usDollar)"
      ],
      "metadata": {
        "colab": {
          "base_uri": "https://localhost:8080/"
        },
        "id": "iHSN7v3EgM4g",
        "outputId": "2f867ca6-6e8a-45be-d18a-67cdeec9276b"
      },
      "execution_count": 14,
      "outputs": [
        {
          "output_type": "execute_result",
          "data": {
            "text/plain": [
              "[               Price\n",
              " date_time           \n",
              " 2021-01-01  1,901.60\n",
              " 2020-12-31  1,895.10\n",
              " 2020-12-30  1,893.40\n",
              " 2020-12-29  1,880.50\n",
              " 2020-12-28  1,877.90\n",
              " ...              ...\n",
              " 2015-01-07  1,353.60\n",
              " 2015-01-06  1,362.20\n",
              " 2015-01-05  1,353.50\n",
              " 2015-01-02  1,337.70\n",
              " 2015-01-01  1,186.80\n",
              " \n",
              " [1588 rows x 1 columns],             Price\n",
              " date_time        \n",
              " 2020-12-30  42.50\n",
              " 2020-12-29  42.50\n",
              " 2020-12-28  41.00\n",
              " 2020-12-25  42.00\n",
              " 2020-12-24  41.25\n",
              " ...           ...\n",
              " 2015-01-09  33.80\n",
              " 2015-01-08  34.00\n",
              " 2015-01-07  33.40\n",
              " 2015-01-06  32.30\n",
              " 2015-01-05  31.50\n",
              " \n",
              " [1463 rows x 1 columns],              Price\n",
              " date_time         \n",
              " 2020-12-30   98.25\n",
              " 2020-12-29   97.75\n",
              " 2020-12-28   95.00\n",
              " 2020-12-25   96.50\n",
              " 2020-12-24   95.75\n",
              " ...            ...\n",
              " 2015-01-09  112.50\n",
              " 2015-01-08  110.00\n",
              " 2015-01-07  106.50\n",
              " 2015-01-06  107.00\n",
              " 2015-01-05  107.00\n",
              " \n",
              " [1463 rows x 1 columns],             Price\n",
              " date_time        \n",
              " 2020-12-30  52.00\n",
              " 2020-12-29  53.25\n",
              " 2020-12-28  51.25\n",
              " 2020-12-25  54.00\n",
              " 2020-12-24  52.25\n",
              " ...           ...\n",
              " 2015-01-09  46.00\n",
              " 2015-01-08  45.75\n",
              " 2015-01-07  44.25\n",
              " 2015-01-06  43.00\n",
              " 2015-01-05  42.75\n",
              " \n",
              " [1463 rows x 1 columns],             Price\n",
              " date_time        \n",
              " 2021-01-01  89.94\n",
              " 2020-12-31  89.94\n",
              " 2020-12-30  89.68\n",
              " 2020-12-29  89.99\n",
              " 2020-12-28  90.34\n",
              " ...           ...\n",
              " 2015-01-07  91.89\n",
              " 2015-01-06  91.50\n",
              " 2015-01-05  91.38\n",
              " 2015-01-02  91.08\n",
              " 2015-01-01  90.27\n",
              " \n",
              " [1568 rows x 1 columns]]"
            ]
          },
          "metadata": {},
          "execution_count": 14
        }
      ]
    },
    {
      "cell_type": "code",
      "source": [
        "# เรียง row ตาม date_time\n",
        "def sortDateTime( df_gold , df_ptt , df_top ,df_pttep,df_usDollar) : \n",
        "  df_gold.sort_values(by='date_time', inplace=True)\n",
        "  df_ptt.sort_values(by='date_time', inplace=True)\n",
        "  df_top.sort_values(by='date_time', inplace=True)\n",
        "  df_pttep.sort_values(by='date_time', inplace=True)\n",
        "  df_usDollar.sort_values(by='date_time', inplace=True)\n",
        "  return [df_gold,df_ptt,df_pttep,df_top,df_usDollar]"
      ],
      "metadata": {
        "id": "9AEcREJjiIP1"
      },
      "execution_count": 15,
      "outputs": []
    },
    {
      "cell_type": "code",
      "source": [
        "sortDateTime( df_gold , df_ptt , df_top ,df_pttep,df_usDollar)"
      ],
      "metadata": {
        "colab": {
          "base_uri": "https://localhost:8080/"
        },
        "id": "c3Q_8XGLiXxZ",
        "outputId": "c5376964-32b6-48a3-ae4f-2a31cecff25e"
      },
      "execution_count": 16,
      "outputs": [
        {
          "output_type": "execute_result",
          "data": {
            "text/plain": [
              "[               Price\n",
              " date_time           \n",
              " 2015-01-01  1,186.80\n",
              " 2015-01-02  1,337.70\n",
              " 2015-01-05  1,353.50\n",
              " 2015-01-06  1,362.20\n",
              " 2015-01-07  1,353.60\n",
              " ...              ...\n",
              " 2020-12-28  1,877.90\n",
              " 2020-12-29  1,880.50\n",
              " 2020-12-30  1,893.40\n",
              " 2020-12-31  1,895.10\n",
              " 2021-01-01  1,901.60\n",
              " \n",
              " [1588 rows x 1 columns],             Price\n",
              " date_time        \n",
              " 2015-01-05  31.50\n",
              " 2015-01-06  32.30\n",
              " 2015-01-07  33.40\n",
              " 2015-01-08  34.00\n",
              " 2015-01-09  33.80\n",
              " ...           ...\n",
              " 2020-12-24  41.25\n",
              " 2020-12-25  42.00\n",
              " 2020-12-28  41.00\n",
              " 2020-12-29  42.50\n",
              " 2020-12-30  42.50\n",
              " \n",
              " [1463 rows x 1 columns],              Price\n",
              " date_time         \n",
              " 2015-01-05  107.00\n",
              " 2015-01-06  107.00\n",
              " 2015-01-07  106.50\n",
              " 2015-01-08  110.00\n",
              " 2015-01-09  112.50\n",
              " ...            ...\n",
              " 2020-12-24   95.75\n",
              " 2020-12-25   96.50\n",
              " 2020-12-28   95.00\n",
              " 2020-12-29   97.75\n",
              " 2020-12-30   98.25\n",
              " \n",
              " [1463 rows x 1 columns],             Price\n",
              " date_time        \n",
              " 2015-01-05  42.75\n",
              " 2015-01-06  43.00\n",
              " 2015-01-07  44.25\n",
              " 2015-01-08  45.75\n",
              " 2015-01-09  46.00\n",
              " ...           ...\n",
              " 2020-12-24  52.25\n",
              " 2020-12-25  54.00\n",
              " 2020-12-28  51.25\n",
              " 2020-12-29  53.25\n",
              " 2020-12-30  52.00\n",
              " \n",
              " [1463 rows x 1 columns],             Price\n",
              " date_time        \n",
              " 2015-01-01  90.27\n",
              " 2015-01-02  91.08\n",
              " 2015-01-05  91.38\n",
              " 2015-01-06  91.50\n",
              " 2015-01-07  91.89\n",
              " ...           ...\n",
              " 2020-12-28  90.34\n",
              " 2020-12-29  89.99\n",
              " 2020-12-30  89.68\n",
              " 2020-12-31  89.94\n",
              " 2021-01-01  89.94\n",
              " \n",
              " [1568 rows x 1 columns]]"
            ]
          },
          "metadata": {},
          "execution_count": 16
        }
      ]
    },
    {
      "cell_type": "code",
      "source": [
        "df_gold['Price'] = df_gold['Price'].str.replace(',', '').astype(float)"
      ],
      "metadata": {
        "id": "qKy9DKZDxr-W"
      },
      "execution_count": 17,
      "outputs": []
    },
    {
      "cell_type": "code",
      "source": [
        "# นำ box-plot มาใช้โดยที่ data < q1 -> q1   , data > q3 -> q3\n",
        "def removeOutlier(df):\n",
        "  cols = df.columns.tolist()[1:-1:]\n",
        "  for col in cols:\n",
        "    q1 = df[col].quantile(q=0.25)\n",
        "    q3 = df[col].quantile(q=0.75)\n",
        "    IQR = q3 - q1\n",
        "    df[df[col] > q3 + 1.5*IQR] = q3\n",
        "    df[df[col] < q1 - 1.5*IQR] = q1\n",
        "  return df"
      ],
      "metadata": {
        "id": "ioX8nJtBxbiU"
      },
      "execution_count": 18,
      "outputs": []
    },
    {
      "cell_type": "code",
      "source": [
        "removeOutlier(df_gold)\n",
        "removeOutlier(df_ptt)\n",
        "removeOutlier(df_pttep)\n",
        "removeOutlier(df_top)\n",
        "removeOutlier(df_usDollar)"
      ],
      "metadata": {
        "colab": {
          "base_uri": "https://localhost:8080/",
          "height": 455
        },
        "id": "6VHyChD9xtkd",
        "outputId": "ef475dcb-eb02-4444-a4f5-a7249f5fc4b2"
      },
      "execution_count": 19,
      "outputs": [
        {
          "output_type": "execute_result",
          "data": {
            "text/plain": [
              "            Price\n",
              "date_time        \n",
              "2015-01-01  90.27\n",
              "2015-01-02  91.08\n",
              "2015-01-05  91.38\n",
              "2015-01-06  91.50\n",
              "2015-01-07  91.89\n",
              "...           ...\n",
              "2020-12-28  90.34\n",
              "2020-12-29  89.99\n",
              "2020-12-30  89.68\n",
              "2020-12-31  89.94\n",
              "2021-01-01  89.94\n",
              "\n",
              "[1568 rows x 1 columns]"
            ],
            "text/html": [
              "\n",
              "  <div id=\"df-cc2c99d4-b42e-4aa7-9449-3240bcfb45eb\">\n",
              "    <div class=\"colab-df-container\">\n",
              "      <div>\n",
              "<style scoped>\n",
              "    .dataframe tbody tr th:only-of-type {\n",
              "        vertical-align: middle;\n",
              "    }\n",
              "\n",
              "    .dataframe tbody tr th {\n",
              "        vertical-align: top;\n",
              "    }\n",
              "\n",
              "    .dataframe thead th {\n",
              "        text-align: right;\n",
              "    }\n",
              "</style>\n",
              "<table border=\"1\" class=\"dataframe\">\n",
              "  <thead>\n",
              "    <tr style=\"text-align: right;\">\n",
              "      <th></th>\n",
              "      <th>Price</th>\n",
              "    </tr>\n",
              "    <tr>\n",
              "      <th>date_time</th>\n",
              "      <th></th>\n",
              "    </tr>\n",
              "  </thead>\n",
              "  <tbody>\n",
              "    <tr>\n",
              "      <th>2015-01-01</th>\n",
              "      <td>90.27</td>\n",
              "    </tr>\n",
              "    <tr>\n",
              "      <th>2015-01-02</th>\n",
              "      <td>91.08</td>\n",
              "    </tr>\n",
              "    <tr>\n",
              "      <th>2015-01-05</th>\n",
              "      <td>91.38</td>\n",
              "    </tr>\n",
              "    <tr>\n",
              "      <th>2015-01-06</th>\n",
              "      <td>91.50</td>\n",
              "    </tr>\n",
              "    <tr>\n",
              "      <th>2015-01-07</th>\n",
              "      <td>91.89</td>\n",
              "    </tr>\n",
              "    <tr>\n",
              "      <th>...</th>\n",
              "      <td>...</td>\n",
              "    </tr>\n",
              "    <tr>\n",
              "      <th>2020-12-28</th>\n",
              "      <td>90.34</td>\n",
              "    </tr>\n",
              "    <tr>\n",
              "      <th>2020-12-29</th>\n",
              "      <td>89.99</td>\n",
              "    </tr>\n",
              "    <tr>\n",
              "      <th>2020-12-30</th>\n",
              "      <td>89.68</td>\n",
              "    </tr>\n",
              "    <tr>\n",
              "      <th>2020-12-31</th>\n",
              "      <td>89.94</td>\n",
              "    </tr>\n",
              "    <tr>\n",
              "      <th>2021-01-01</th>\n",
              "      <td>89.94</td>\n",
              "    </tr>\n",
              "  </tbody>\n",
              "</table>\n",
              "<p>1568 rows × 1 columns</p>\n",
              "</div>\n",
              "      <button class=\"colab-df-convert\" onclick=\"convertToInteractive('df-cc2c99d4-b42e-4aa7-9449-3240bcfb45eb')\"\n",
              "              title=\"Convert this dataframe to an interactive table.\"\n",
              "              style=\"display:none;\">\n",
              "        \n",
              "  <svg xmlns=\"http://www.w3.org/2000/svg\" height=\"24px\"viewBox=\"0 0 24 24\"\n",
              "       width=\"24px\">\n",
              "    <path d=\"M0 0h24v24H0V0z\" fill=\"none\"/>\n",
              "    <path d=\"M18.56 5.44l.94 2.06.94-2.06 2.06-.94-2.06-.94-.94-2.06-.94 2.06-2.06.94zm-11 1L8.5 8.5l.94-2.06 2.06-.94-2.06-.94L8.5 2.5l-.94 2.06-2.06.94zm10 10l.94 2.06.94-2.06 2.06-.94-2.06-.94-.94-2.06-.94 2.06-2.06.94z\"/><path d=\"M17.41 7.96l-1.37-1.37c-.4-.4-.92-.59-1.43-.59-.52 0-1.04.2-1.43.59L10.3 9.45l-7.72 7.72c-.78.78-.78 2.05 0 2.83L4 21.41c.39.39.9.59 1.41.59.51 0 1.02-.2 1.41-.59l7.78-7.78 2.81-2.81c.8-.78.8-2.07 0-2.86zM5.41 20L4 18.59l7.72-7.72 1.47 1.35L5.41 20z\"/>\n",
              "  </svg>\n",
              "      </button>\n",
              "      \n",
              "  <style>\n",
              "    .colab-df-container {\n",
              "      display:flex;\n",
              "      flex-wrap:wrap;\n",
              "      gap: 12px;\n",
              "    }\n",
              "\n",
              "    .colab-df-convert {\n",
              "      background-color: #E8F0FE;\n",
              "      border: none;\n",
              "      border-radius: 50%;\n",
              "      cursor: pointer;\n",
              "      display: none;\n",
              "      fill: #1967D2;\n",
              "      height: 32px;\n",
              "      padding: 0 0 0 0;\n",
              "      width: 32px;\n",
              "    }\n",
              "\n",
              "    .colab-df-convert:hover {\n",
              "      background-color: #E2EBFA;\n",
              "      box-shadow: 0px 1px 2px rgba(60, 64, 67, 0.3), 0px 1px 3px 1px rgba(60, 64, 67, 0.15);\n",
              "      fill: #174EA6;\n",
              "    }\n",
              "\n",
              "    [theme=dark] .colab-df-convert {\n",
              "      background-color: #3B4455;\n",
              "      fill: #D2E3FC;\n",
              "    }\n",
              "\n",
              "    [theme=dark] .colab-df-convert:hover {\n",
              "      background-color: #434B5C;\n",
              "      box-shadow: 0px 1px 3px 1px rgba(0, 0, 0, 0.15);\n",
              "      filter: drop-shadow(0px 1px 2px rgba(0, 0, 0, 0.3));\n",
              "      fill: #FFFFFF;\n",
              "    }\n",
              "  </style>\n",
              "\n",
              "      <script>\n",
              "        const buttonEl =\n",
              "          document.querySelector('#df-cc2c99d4-b42e-4aa7-9449-3240bcfb45eb button.colab-df-convert');\n",
              "        buttonEl.style.display =\n",
              "          google.colab.kernel.accessAllowed ? 'block' : 'none';\n",
              "\n",
              "        async function convertToInteractive(key) {\n",
              "          const element = document.querySelector('#df-cc2c99d4-b42e-4aa7-9449-3240bcfb45eb');\n",
              "          const dataTable =\n",
              "            await google.colab.kernel.invokeFunction('convertToInteractive',\n",
              "                                                     [key], {});\n",
              "          if (!dataTable) return;\n",
              "\n",
              "          const docLinkHtml = 'Like what you see? Visit the ' +\n",
              "            '<a target=\"_blank\" href=https://colab.research.google.com/notebooks/data_table.ipynb>data table notebook</a>'\n",
              "            + ' to learn more about interactive tables.';\n",
              "          element.innerHTML = '';\n",
              "          dataTable['output_type'] = 'display_data';\n",
              "          await google.colab.output.renderOutput(dataTable, element);\n",
              "          const docLink = document.createElement('div');\n",
              "          docLink.innerHTML = docLinkHtml;\n",
              "          element.appendChild(docLink);\n",
              "        }\n",
              "      </script>\n",
              "    </div>\n",
              "  </div>\n",
              "  "
            ]
          },
          "metadata": {},
          "execution_count": 19
        }
      ]
    },
    {
      "cell_type": "code",
      "source": [
        "df_gold = df_gold.resample('1h').ffill()\n",
        "df_gold = df_gold.reindex(pd.date_range(start=\"2015-01-05 00:00:00\", end= \"2020-12-30 00:00:00\", freq=\"24h\"), fill_value=np.nan)\n",
        "df_gold = df_gold.interpolate(method='nearest')\n",
        "\n",
        "df_ptt = df_ptt.resample('1h').ffill()\n",
        "df_ptt = df_ptt.reindex(pd.date_range(start=\"2015-01-05 00:00:00\", end= \"2020-12-30 00:00:00\", freq=\"24h\"), fill_value=np.nan)\n",
        "df_ptt = df_ptt.interpolate(method='nearest')\n",
        "\n",
        "df_pttep = df_pttep.resample('1h').ffill()\n",
        "df_pttep = df_pttep.reindex(pd.date_range(start=\"2015-01-05 00:00:00\", end= \"2020-12-30 00:00:00\", freq=\"24h\"), fill_value=np.nan)\n",
        "df_pttep = df_pttep.interpolate(method='nearest')\n",
        "\n",
        "df_top = df_top.resample('1h').ffill()\n",
        "df_top = df_top.reindex(pd.date_range(start=\"2015-01-05 00:00:00\", end= \"2020-12-30 00:00:00\", freq=\"24h\"), fill_value=np.nan)\n",
        "df_top = df_top.interpolate(method='nearest')\n",
        "\n",
        "df_usDollar = df_usDollar.resample('1h').ffill()\n",
        "df_usDollar = df_usDollar.reindex(pd.date_range(start=\"2015-01-05 00:00:00\", end= \"2020-12-30 00:00:00\", freq=\"24h\"), fill_value=np.nan)\n",
        "df_usDollar = df_usDollar.interpolate(method='nearest')"
      ],
      "metadata": {
        "id": "_AkIJKMVjMuQ"
      },
      "execution_count": 20,
      "outputs": []
    },
    {
      "cell_type": "code",
      "source": [
        "# retrieveData(df_gold , df_ptt , df_top ,df_pttep , df_usDollar , \"2015-01-05 00:00:00\" , \"2020-12-30 00:00:00\" , \"24h\") "
      ],
      "metadata": {
        "id": "cpd-RfXbjrJ-"
      },
      "execution_count": 21,
      "outputs": []
    },
    {
      "cell_type": "code",
      "source": [
        "null_counts = df_gold.isnull().sum()\n",
        "print(\"Number of null values in each column:\\n{}\".format(null_counts))"
      ],
      "metadata": {
        "colab": {
          "base_uri": "https://localhost:8080/"
        },
        "id": "OUvYdlTWqjuT",
        "outputId": "12514d3d-da0d-4e7d-cf21-855d3a864909"
      },
      "execution_count": 22,
      "outputs": [
        {
          "output_type": "stream",
          "name": "stdout",
          "text": [
            "Number of null values in each column:\n",
            "Price    0\n",
            "dtype: int64\n"
          ]
        }
      ]
    },
    {
      "cell_type": "code",
      "source": [
        "null_counts = df_ptt.isnull().sum()\n",
        "print(\"Number of null values in each column:\\n{}\".format(null_counts))"
      ],
      "metadata": {
        "colab": {
          "base_uri": "https://localhost:8080/"
        },
        "id": "nr_SN_IVr5J5",
        "outputId": "5d98ca56-9d96-41f7-c92b-5305450ac674"
      },
      "execution_count": 23,
      "outputs": [
        {
          "output_type": "stream",
          "name": "stdout",
          "text": [
            "Number of null values in each column:\n",
            "Price    0\n",
            "dtype: int64\n"
          ]
        }
      ]
    },
    {
      "cell_type": "code",
      "source": [
        "null_counts = df_top.isnull().sum()\n",
        "print(\"Number of null values in each column:\\n{}\".format(null_counts))"
      ],
      "metadata": {
        "colab": {
          "base_uri": "https://localhost:8080/"
        },
        "id": "NxVtpitMuzJ8",
        "outputId": "c178ccef-c0b4-42af-9f4f-321ff4fef895"
      },
      "execution_count": 24,
      "outputs": [
        {
          "output_type": "stream",
          "name": "stdout",
          "text": [
            "Number of null values in each column:\n",
            "Price    0\n",
            "dtype: int64\n"
          ]
        }
      ]
    },
    {
      "cell_type": "code",
      "source": [
        "null_counts = df_pttep.isnull().sum()\n",
        "print(\"Number of null values in each column:\\n{}\".format(null_counts))"
      ],
      "metadata": {
        "colab": {
          "base_uri": "https://localhost:8080/"
        },
        "id": "eFEmPSNKu2VJ",
        "outputId": "d49da4ac-bd1c-4385-ff28-23471edd4c90"
      },
      "execution_count": 25,
      "outputs": [
        {
          "output_type": "stream",
          "name": "stdout",
          "text": [
            "Number of null values in each column:\n",
            "Price    0\n",
            "dtype: int64\n"
          ]
        }
      ]
    },
    {
      "cell_type": "code",
      "source": [
        "null_counts = df_usDollar.isnull().sum()\n",
        "print(\"Number of null values in each column:\\n{}\".format(null_counts))"
      ],
      "metadata": {
        "colab": {
          "base_uri": "https://localhost:8080/"
        },
        "id": "uVq-Gid3u40Z",
        "outputId": "79415c8e-1f7a-4ef9-902b-351411ef7c05"
      },
      "execution_count": 26,
      "outputs": [
        {
          "output_type": "stream",
          "name": "stdout",
          "text": [
            "Number of null values in each column:\n",
            "Price    0\n",
            "dtype: int64\n"
          ]
        }
      ]
    },
    {
      "cell_type": "code",
      "source": [
        "df_gold.shape"
      ],
      "metadata": {
        "colab": {
          "base_uri": "https://localhost:8080/"
        },
        "id": "8niGo4oBu89T",
        "outputId": "b1cccef2-2367-48ba-d43b-79983ac85b86"
      },
      "execution_count": 27,
      "outputs": [
        {
          "output_type": "execute_result",
          "data": {
            "text/plain": [
              "(2187, 1)"
            ]
          },
          "metadata": {},
          "execution_count": 27
        }
      ]
    },
    {
      "cell_type": "code",
      "source": [
        "df_ptt.shape"
      ],
      "metadata": {
        "colab": {
          "base_uri": "https://localhost:8080/"
        },
        "id": "Czr_69yMvFj6",
        "outputId": "299e7246-4a8c-489a-b197-03c369749b20"
      },
      "execution_count": 28,
      "outputs": [
        {
          "output_type": "execute_result",
          "data": {
            "text/plain": [
              "(2187, 1)"
            ]
          },
          "metadata": {},
          "execution_count": 28
        }
      ]
    },
    {
      "cell_type": "code",
      "source": [
        "df_pttep.shape"
      ],
      "metadata": {
        "colab": {
          "base_uri": "https://localhost:8080/"
        },
        "id": "sVXR0wpbyCkk",
        "outputId": "dd70ba9d-b4c4-4b47-f0c4-362b3308bb81"
      },
      "execution_count": 29,
      "outputs": [
        {
          "output_type": "execute_result",
          "data": {
            "text/plain": [
              "(2187, 1)"
            ]
          },
          "metadata": {},
          "execution_count": 29
        }
      ]
    },
    {
      "cell_type": "code",
      "source": [
        "df_usDollar.shape"
      ],
      "metadata": {
        "colab": {
          "base_uri": "https://localhost:8080/"
        },
        "id": "XE4TbjSGyGbH",
        "outputId": "41882516-7cc0-4114-892a-17346270a035"
      },
      "execution_count": 30,
      "outputs": [
        {
          "output_type": "execute_result",
          "data": {
            "text/plain": [
              "(2187, 1)"
            ]
          },
          "metadata": {},
          "execution_count": 30
        }
      ]
    },
    {
      "cell_type": "code",
      "source": [
        "df_top.shape"
      ],
      "metadata": {
        "colab": {
          "base_uri": "https://localhost:8080/"
        },
        "id": "Kom8dheayLJj",
        "outputId": "ae6d3f51-4d67-412a-fe04-1e8320cda600"
      },
      "execution_count": 31,
      "outputs": [
        {
          "output_type": "execute_result",
          "data": {
            "text/plain": [
              "(2187, 1)"
            ]
          },
          "metadata": {},
          "execution_count": 31
        }
      ]
    },
    {
      "cell_type": "code",
      "source": [
        "df_gold.rename(columns = {'Price':'gold_price'}, inplace = True)\n",
        "df_ptt.rename(columns = {'Price':'ptt_price'}, inplace = True)\n",
        "df_pttep.rename(columns = {'Price':'pttep_price'}, inplace = True)\n",
        "df_top.rename(columns = {'Price':'top_price'}, inplace = True)\n",
        "df_usDollar.rename(columns = {'Price':'usDollar_price'}, inplace = True)"
      ],
      "metadata": {
        "id": "ImyjkQ1DzJkm"
      },
      "execution_count": 32,
      "outputs": []
    },
    {
      "cell_type": "code",
      "source": [
        "df_gold.index.name = 'date_time'\n",
        "df_ptt.index.name = 'date_time'\n",
        "df_pttep.index.name = 'date_time'\n",
        "df_top.index.name = 'date_time'\n",
        "df_usDollar.index.name = 'date_time'\n",
        "\n",
        "df_ptt.reset_index(inplace=True)\n",
        "df_pttep.reset_index(inplace=True)\n",
        "df_gold.reset_index(inplace=True)\n",
        "df_top.reset_index(inplace=True)\n",
        "df_usDollar.reset_index(inplace=True)\n",
        "\n",
        "\n",
        "df_gold.drop(labels=['date_time'], axis=1, inplace=True)\n",
        "df_usDollar.drop(labels=['date_time'], axis=1, inplace=True)\n",
        "df_top.drop(labels=['date_time'], axis=1, inplace=True)\n",
        "df_pttep.drop(labels=['date_time'], axis=1, inplace=True)\n",
        "\n",
        "df = pd.concat(objs=[df_gold, df_ptt, df_pttep,df_top,df_usDollar], axis=1)\n",
        "df.set_index('date_time', inplace=True)"
      ],
      "metadata": {
        "id": "jYm74yBCyRNm"
      },
      "execution_count": 33,
      "outputs": []
    },
    {
      "cell_type": "code",
      "source": [
        "df"
      ],
      "metadata": {
        "colab": {
          "base_uri": "https://localhost:8080/",
          "height": 455
        },
        "id": "2-WemBlWy44H",
        "outputId": "de11aec4-98e9-463a-a6df-945b4e94b65a"
      },
      "execution_count": 34,
      "outputs": [
        {
          "output_type": "execute_result",
          "data": {
            "text/plain": [
              "            gold_price  ptt_price  pttep_price  top_price  usDollar_price\n",
              "date_time                                                                \n",
              "2015-01-05      1353.5       31.5       107.00      42.75           91.38\n",
              "2015-01-06      1362.2       32.3       107.00      43.00           91.50\n",
              "2015-01-07      1353.6       33.4       106.50      44.25           91.89\n",
              "2015-01-08      1351.6       34.0       110.00      45.75           92.37\n",
              "2015-01-09      1357.4       33.8       112.50      46.00           91.94\n",
              "...                ...        ...          ...        ...             ...\n",
              "2020-12-26      1880.7       42.0        96.50      54.00           90.32\n",
              "2020-12-27      1880.7       42.0        96.50      54.00           90.32\n",
              "2020-12-28      1877.9       41.0        95.00      51.25           90.34\n",
              "2020-12-29      1880.5       42.5        97.75      53.25           89.99\n",
              "2020-12-30      1893.4       42.5        98.25      52.00           89.68\n",
              "\n",
              "[2187 rows x 5 columns]"
            ],
            "text/html": [
              "\n",
              "  <div id=\"df-1d627533-ca76-4c51-aa61-ac882f36c436\">\n",
              "    <div class=\"colab-df-container\">\n",
              "      <div>\n",
              "<style scoped>\n",
              "    .dataframe tbody tr th:only-of-type {\n",
              "        vertical-align: middle;\n",
              "    }\n",
              "\n",
              "    .dataframe tbody tr th {\n",
              "        vertical-align: top;\n",
              "    }\n",
              "\n",
              "    .dataframe thead th {\n",
              "        text-align: right;\n",
              "    }\n",
              "</style>\n",
              "<table border=\"1\" class=\"dataframe\">\n",
              "  <thead>\n",
              "    <tr style=\"text-align: right;\">\n",
              "      <th></th>\n",
              "      <th>gold_price</th>\n",
              "      <th>ptt_price</th>\n",
              "      <th>pttep_price</th>\n",
              "      <th>top_price</th>\n",
              "      <th>usDollar_price</th>\n",
              "    </tr>\n",
              "    <tr>\n",
              "      <th>date_time</th>\n",
              "      <th></th>\n",
              "      <th></th>\n",
              "      <th></th>\n",
              "      <th></th>\n",
              "      <th></th>\n",
              "    </tr>\n",
              "  </thead>\n",
              "  <tbody>\n",
              "    <tr>\n",
              "      <th>2015-01-05</th>\n",
              "      <td>1353.5</td>\n",
              "      <td>31.5</td>\n",
              "      <td>107.00</td>\n",
              "      <td>42.75</td>\n",
              "      <td>91.38</td>\n",
              "    </tr>\n",
              "    <tr>\n",
              "      <th>2015-01-06</th>\n",
              "      <td>1362.2</td>\n",
              "      <td>32.3</td>\n",
              "      <td>107.00</td>\n",
              "      <td>43.00</td>\n",
              "      <td>91.50</td>\n",
              "    </tr>\n",
              "    <tr>\n",
              "      <th>2015-01-07</th>\n",
              "      <td>1353.6</td>\n",
              "      <td>33.4</td>\n",
              "      <td>106.50</td>\n",
              "      <td>44.25</td>\n",
              "      <td>91.89</td>\n",
              "    </tr>\n",
              "    <tr>\n",
              "      <th>2015-01-08</th>\n",
              "      <td>1351.6</td>\n",
              "      <td>34.0</td>\n",
              "      <td>110.00</td>\n",
              "      <td>45.75</td>\n",
              "      <td>92.37</td>\n",
              "    </tr>\n",
              "    <tr>\n",
              "      <th>2015-01-09</th>\n",
              "      <td>1357.4</td>\n",
              "      <td>33.8</td>\n",
              "      <td>112.50</td>\n",
              "      <td>46.00</td>\n",
              "      <td>91.94</td>\n",
              "    </tr>\n",
              "    <tr>\n",
              "      <th>...</th>\n",
              "      <td>...</td>\n",
              "      <td>...</td>\n",
              "      <td>...</td>\n",
              "      <td>...</td>\n",
              "      <td>...</td>\n",
              "    </tr>\n",
              "    <tr>\n",
              "      <th>2020-12-26</th>\n",
              "      <td>1880.7</td>\n",
              "      <td>42.0</td>\n",
              "      <td>96.50</td>\n",
              "      <td>54.00</td>\n",
              "      <td>90.32</td>\n",
              "    </tr>\n",
              "    <tr>\n",
              "      <th>2020-12-27</th>\n",
              "      <td>1880.7</td>\n",
              "      <td>42.0</td>\n",
              "      <td>96.50</td>\n",
              "      <td>54.00</td>\n",
              "      <td>90.32</td>\n",
              "    </tr>\n",
              "    <tr>\n",
              "      <th>2020-12-28</th>\n",
              "      <td>1877.9</td>\n",
              "      <td>41.0</td>\n",
              "      <td>95.00</td>\n",
              "      <td>51.25</td>\n",
              "      <td>90.34</td>\n",
              "    </tr>\n",
              "    <tr>\n",
              "      <th>2020-12-29</th>\n",
              "      <td>1880.5</td>\n",
              "      <td>42.5</td>\n",
              "      <td>97.75</td>\n",
              "      <td>53.25</td>\n",
              "      <td>89.99</td>\n",
              "    </tr>\n",
              "    <tr>\n",
              "      <th>2020-12-30</th>\n",
              "      <td>1893.4</td>\n",
              "      <td>42.5</td>\n",
              "      <td>98.25</td>\n",
              "      <td>52.00</td>\n",
              "      <td>89.68</td>\n",
              "    </tr>\n",
              "  </tbody>\n",
              "</table>\n",
              "<p>2187 rows × 5 columns</p>\n",
              "</div>\n",
              "      <button class=\"colab-df-convert\" onclick=\"convertToInteractive('df-1d627533-ca76-4c51-aa61-ac882f36c436')\"\n",
              "              title=\"Convert this dataframe to an interactive table.\"\n",
              "              style=\"display:none;\">\n",
              "        \n",
              "  <svg xmlns=\"http://www.w3.org/2000/svg\" height=\"24px\"viewBox=\"0 0 24 24\"\n",
              "       width=\"24px\">\n",
              "    <path d=\"M0 0h24v24H0V0z\" fill=\"none\"/>\n",
              "    <path d=\"M18.56 5.44l.94 2.06.94-2.06 2.06-.94-2.06-.94-.94-2.06-.94 2.06-2.06.94zm-11 1L8.5 8.5l.94-2.06 2.06-.94-2.06-.94L8.5 2.5l-.94 2.06-2.06.94zm10 10l.94 2.06.94-2.06 2.06-.94-2.06-.94-.94-2.06-.94 2.06-2.06.94z\"/><path d=\"M17.41 7.96l-1.37-1.37c-.4-.4-.92-.59-1.43-.59-.52 0-1.04.2-1.43.59L10.3 9.45l-7.72 7.72c-.78.78-.78 2.05 0 2.83L4 21.41c.39.39.9.59 1.41.59.51 0 1.02-.2 1.41-.59l7.78-7.78 2.81-2.81c.8-.78.8-2.07 0-2.86zM5.41 20L4 18.59l7.72-7.72 1.47 1.35L5.41 20z\"/>\n",
              "  </svg>\n",
              "      </button>\n",
              "      \n",
              "  <style>\n",
              "    .colab-df-container {\n",
              "      display:flex;\n",
              "      flex-wrap:wrap;\n",
              "      gap: 12px;\n",
              "    }\n",
              "\n",
              "    .colab-df-convert {\n",
              "      background-color: #E8F0FE;\n",
              "      border: none;\n",
              "      border-radius: 50%;\n",
              "      cursor: pointer;\n",
              "      display: none;\n",
              "      fill: #1967D2;\n",
              "      height: 32px;\n",
              "      padding: 0 0 0 0;\n",
              "      width: 32px;\n",
              "    }\n",
              "\n",
              "    .colab-df-convert:hover {\n",
              "      background-color: #E2EBFA;\n",
              "      box-shadow: 0px 1px 2px rgba(60, 64, 67, 0.3), 0px 1px 3px 1px rgba(60, 64, 67, 0.15);\n",
              "      fill: #174EA6;\n",
              "    }\n",
              "\n",
              "    [theme=dark] .colab-df-convert {\n",
              "      background-color: #3B4455;\n",
              "      fill: #D2E3FC;\n",
              "    }\n",
              "\n",
              "    [theme=dark] .colab-df-convert:hover {\n",
              "      background-color: #434B5C;\n",
              "      box-shadow: 0px 1px 3px 1px rgba(0, 0, 0, 0.15);\n",
              "      filter: drop-shadow(0px 1px 2px rgba(0, 0, 0, 0.3));\n",
              "      fill: #FFFFFF;\n",
              "    }\n",
              "  </style>\n",
              "\n",
              "      <script>\n",
              "        const buttonEl =\n",
              "          document.querySelector('#df-1d627533-ca76-4c51-aa61-ac882f36c436 button.colab-df-convert');\n",
              "        buttonEl.style.display =\n",
              "          google.colab.kernel.accessAllowed ? 'block' : 'none';\n",
              "\n",
              "        async function convertToInteractive(key) {\n",
              "          const element = document.querySelector('#df-1d627533-ca76-4c51-aa61-ac882f36c436');\n",
              "          const dataTable =\n",
              "            await google.colab.kernel.invokeFunction('convertToInteractive',\n",
              "                                                     [key], {});\n",
              "          if (!dataTable) return;\n",
              "\n",
              "          const docLinkHtml = 'Like what you see? Visit the ' +\n",
              "            '<a target=\"_blank\" href=https://colab.research.google.com/notebooks/data_table.ipynb>data table notebook</a>'\n",
              "            + ' to learn more about interactive tables.';\n",
              "          element.innerHTML = '';\n",
              "          dataTable['output_type'] = 'display_data';\n",
              "          await google.colab.output.renderOutput(dataTable, element);\n",
              "          const docLink = document.createElement('div');\n",
              "          docLink.innerHTML = docLinkHtml;\n",
              "          element.appendChild(docLink);\n",
              "        }\n",
              "      </script>\n",
              "    </div>\n",
              "  </div>\n",
              "  "
            ]
          },
          "metadata": {},
          "execution_count": 34
        }
      ]
    },
    {
      "cell_type": "code",
      "source": [
        "df.to_csv('data.csv')"
      ],
      "metadata": {
        "id": "-nw1kkZF2Wra"
      },
      "execution_count": 36,
      "outputs": []
    }
  ]
}